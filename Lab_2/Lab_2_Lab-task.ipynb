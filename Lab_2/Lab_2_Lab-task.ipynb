{
 "cells": [
  {
   "cell_type": "markdown",
   "metadata": {},
   "source": [
    "1. Create a NumPy array with the values [10, 20, 30, 40, 50]. Add your name as a string (e.g., \"John\") at the end of the array and print the resulting array.\n",
    "\n",
    "2. Create a Pandas DataFrame with columns \"Name\", \"Age\", and \"Class\". Include your name, your age, and a random class assignment (e.g., \"A\", \"B\", or \"C\") as the first row. Print the DataFrame.\n",
    "\n",
    "3. Create a line plot using Matplotlib where the x-axis represents the letters of your name (e.g., ['J', 'O', 'H', 'N']) and the y-axis represents the number of times each letter appears in your name.\n",
    "\n",
    "4. Generate a NumPy array of 5 random numbers. Rename the array variable to include your name as a suffix (e.g., `random_numbers_John`). Find the sum of the array elements.\n",
    "\n",
    "5. Create a DataFrame with columns \"Product\", \"Price\", and \"Seller\". Add at least three products and prices. For the \"Seller\" column, include your name for each row. Display only the rows where the price is greater than 50.\n",
    "\n",
    "6. Create a bar chart showing sales data for 5 products. Label the title of the chart with your name (e.g., \"John's Sales Data\").\n",
    "\n",
    "7. Generate a histogram with 50 random numbers using Seaborn. Use your name as part of the figure's title (e.g., \"Distribution of Random Numbers by John\").\n",
    "\n",
    "8. Create a 3x3 NumPy matrix with random integers between 1 and 10. Name the matrix variable as `matrix_<YourName>` (e.g., `matrix_John`). Calculate the sum of all elements in the matrix.\n",
    "\n",
    "9. Load a CSV file into a Pandas DataFrame. Add a column labeled \"Reviewer\" and fill it with your name for all rows. Display the first 5 rows of the modified DataFrame.\n",
    "\n",
    "10. Create a scatter plot with a regression line using Seaborn. Use random `x` values and calculate `y` values using the formula `y = 2x + noise`. Title the chart with your name (e.g., \"John's Scatter Plot with Regression Line\").\n"
   ]
  },
  {
   "cell_type": "code",
   "execution_count": null,
   "metadata": {},
   "outputs": [],
   "source": [
    "# Creating a NumPy array\n",
    "import numpy as np\n",
    "arr = np.array([10, 20, 30, 40, 50,\"Siddharth\"])\n",
    "print(\"Array:\", arr)"
   ]
  },
  {
   "cell_type": "markdown",
   "metadata": {},
   "source": [
    "The provided code creates a NumPy array containing a mix of numeric values and a string (\"Siddharth\"). Since NumPy arrays must have elements of the same data type, the array will automatically cast all elements to the string data type. As a result, even numeric values will be treated as strings."
   ]
  },
  {
   "cell_type": "code",
   "execution_count": null,
   "metadata": {},
   "outputs": [],
   "source": [
    "import pandas as pd\n",
    "# Creating a DataFrame\n",
    "data = {'Name': ['Siddharth'], 'Age': [19], 'Class': [\"A\"]}\n",
    "df = pd.DataFrame(data)\n",
    "print(\"DataFrame:\\n\", df)"
   ]
  },
  {
   "cell_type": "markdown",
   "metadata": {},
   "source": [
    "The provided code creates a simple Pandas DataFrame with one row of data. The DataFrame contains three columns: `\"Name\"`, `\"Age\"`, and `\"Class\"`, with respective values `\"Siddharth\"`, `19`, and `\"A\"`. This demonstrates how to use a dictionary to initialize a DataFrame in Pandas."
   ]
  },
  {
   "cell_type": "code",
   "execution_count": null,
   "metadata": {},
   "outputs": [],
   "source": [
    "import matplotlib.pyplot as plt\n",
    "from collections import Counter\n",
    "\n",
    "# List representing the letters of your name\n",
    "list_a = ['S', 'I', 'D', 'D', 'H', 'A', 'R', 'T', 'H']\n",
    "\n",
    "print(Counter(\"Sidhartha\"))\n",
    "\n",
    "# Counting the occurrences of each letter\n",
    "s = list_a.count('S')\n",
    "i = list_a.count('I')\n",
    "d = list_a.count('D')\n",
    "h = list_a.count('H')\n",
    "a = list_a.count('A')\n",
    "t = list_a.count('T')\n",
    "r = list_a.count('R')\n",
    "\n",
    "# Lists for x-axis (letters) and y-axis (counts)\n",
    "letters = ['S', 'I', 'D', 'A', 'H', 'T', 'R']\n",
    "counts = [s, i, d, a, h, t, r]\n",
    "\n",
    "# Creating the line plot\n",
    "plt.plot(letters, counts, marker='D', linestyle='-', color='b')\n",
    "\n",
    "# Adding labels and title\n",
    "plt.xlabel('Letters')\n",
    "plt.ylabel('Counts')\n",
    "plt.title('Letter Frequencies in the Name \"Siddarth\"')\n",
    "\n",
    "# Displaying the plot\n",
    "plt.show()\n"
   ]
  },
  {
   "cell_type": "markdown",
   "metadata": {},
   "source": [
    "This code calculates the frequency of each letter in the name \"Siddarth\" using both a Counter object and manual counting with the .count() method. A line plot is created with Matplotlib to visualize the frequencies of the letters in the name. The x-axis represents the letters, and the y-axis shows the corresponding counts, with markers and a blue line connecting the points. The plot is labeled and titled to clearly represent the data."
   ]
  },
  {
   "cell_type": "code",
   "execution_count": null,
   "metadata": {},
   "outputs": [],
   "source": [
    "import numpy as np\n",
    "\n",
    "# Generating a NumPy array of 5 random numbers\n",
    "random_numbers_Siddharth = np.random.rand(5)\n",
    "\n",
    "# Calculating the sum of the array elements\n",
    "sum_of_elements = np.sum(random_numbers_Siddharth)\n",
    "\n",
    "# Printing the array and its sum\n",
    "print(\"Random numbers array:\", random_numbers_Siddharth)\n",
    "print(\"Sum of array elements:\", sum_of_elements)\n"
   ]
  },
  {
   "cell_type": "markdown",
   "metadata": {},
   "source": [
    "This code generates a NumPy array with 5 random numbers between 0 and 1 using `np.random.rand(5)` and calculates the sum of its elements using `np.sum()`. The array values and their sum are then printed. This demonstrates how to use NumPy for random number generation and basic array operations."
   ]
  },
  {
   "cell_type": "code",
   "execution_count": null,
   "metadata": {},
   "outputs": [],
   "source": [
    "import pandas as pd\n",
    "\n",
    "# Creating the DataFrame\n",
    "data = {\n",
    "    'Product': ['Book', 'Copy', 'Pen'],\n",
    "    'Price': [975,98,28],\n",
    "    'Seller': [\"Siddharth\",\"Siddharth\",\"Siddharth\"]\n",
    "}\n",
    "df = pd.DataFrame(data)\n",
    "\n",
    "# Calculating the average marks\n",
    "average_price = df['Price'].mean()\n",
    "\n",
    "print(\"DataFrame:\\n\", df)\n",
    "print(\"Average Price:\", average_price)\n",
    "print()\n",
    "\n",
    "# Filtering rows where marks are greater than 70\n",
    "filtered_df = df[df['Price'] > 70]\n",
    "\n",
    "print(\"\\n\\nFiltered DataFrame:\\n\", filtered_df.to_string(index=False)) # disable showing index value"
   ]
  },
  {
   "cell_type": "markdown",
   "metadata": {},
   "source": [
    "This code creates a Pandas DataFrame with details of three products (`'Book'`, `'Copy'`, `'Pen'`) and their prices, all sold by `\"Siddharth\"`. It calculates the average price of the products using the `mean()` method and filters the rows where the price is greater than 70. The filtered DataFrame and average price are then printed, demonstrating basic data manipulation operations like filtering and aggregation in Pandas. Disabling the index in the final output makes it more user-friendly."
   ]
  },
  {
   "cell_type": "code",
   "execution_count": null,
   "metadata": {},
   "outputs": [],
   "source": [
    "# Create a bar chart for data of 5 products:\n",
    "\n",
    "import matplotlib.pyplot as plt\n",
    "\n",
    "# Products data\n",
    "products = ['Product A', 'Product B', 'Product C', 'Product D', 'Product E']\n",
    "sales = [120, 150, 90, 200, 170]\n",
    "\n",
    "# Creating the bar chart\n",
    "plt.bar(products, sales, color='skyblue')\n",
    "plt.title(\"Siddharth's Sales Data\")\n",
    "plt.xlabel('Products')\n",
    "plt.ylabel('Sales')\n",
    "plt.show()"
   ]
  },
  {
   "cell_type": "markdown",
   "metadata": {},
   "source": [
    "This code creates a bar chart to represent the sales data of five products (`'Product A'` to `'Product E'`). The sales figures are displayed on the y-axis, while the product names are on the x-axis. The bars are styled with a light blue (`'skyblue'`) color, and the chart is labeled with a title (`\"Siddharth's Sales Data\"`) and axis labels. This visual representation effectively compares the sales performance of the products."
   ]
  },
  {
   "cell_type": "code",
   "execution_count": null,
   "metadata": {},
   "outputs": [],
   "source": [
    "# Generate a histogram for random data of size 50 using Seaborn:\n",
    "\n",
    "import seaborn as sns\n",
    "import numpy as np\n",
    "import matplotlib.pyplot as plt\n",
    "\n",
    "# Generating random data\n",
    "random_data = np.random.randn(50)\n",
    "print(\"Random Data : \", random_data)\n",
    "\n",
    "# Creating the histogram\n",
    "sns.histplot(random_data, bins=40, kde=True, color='purple')\n",
    "# In the context of Seaborn's histplot function, the kde parameter stands for Kernel Density Estimate.\n",
    "# When you set kde=True, it adds a smooth curve over the histogram, which represents the estimated probability density function of the data.\n",
    "\n",
    "# This can be particularly useful for visualizing the distribution of data in a more continuous manner,\n",
    "# as opposed to the discrete bins of a histogram. The KDE curve helps to identify\n",
    "# patterns and trends in the data that might not be immediately apparent from the histogram alone.\n",
    "plt.title('Histogram of Random Data')\n",
    "plt.xlabel('Value')\n",
    "plt.ylabel('Frequency')\n",
    "plt.show()"
   ]
  },
  {
   "cell_type": "markdown",
   "metadata": {},
   "source": [
    "This code generates a histogram for a dataset of 50 random numbers drawn from a standard normal distribution (`np.random.randn(50)`) using Seaborn's `histplot` function. The histogram displays the frequency of data points across 40 bins (`bins=40`) with a kernel density estimate (KDE) overlay for a smooth representation of the data distribution. The histogram uses a purple color (`color='purple'`), and the chart is appropriately labeled with a title, x-axis, and y-axis. This visualization effectively showcases the distribution and density of the random dataset."
   ]
  },
  {
   "cell_type": "code",
   "execution_count": null,
   "metadata": {},
   "outputs": [],
   "source": [
    "import numpy as np\n",
    "\n",
    "# Creating a 3x3 matrix with random numbers\n",
    "matrix_siddharth = np.random.randint(1,3,(3, 3))\n",
    "\n",
    "\n",
    "# Printing the original matrix\n",
    "print(\"Original Matrix:\\n\", matrix_siddharth)\n",
    "\n",
    "# Calculating the sum of the elements\n",
    "matrix_sum = np.sum(matrix_siddharth)\n",
    "print(\"Sum of all elements in the matrix:\", matrix_sum)\n",
    "\n"
   ]
  },
  {
   "cell_type": "markdown",
   "metadata": {},
   "source": [
    "This code generates a 3x3 matrix (`matrix_siddharth`) with random integer values between 1 and 2 using `np.random.randint(1, 3, (3, 3))`. The `np.sum()` function is then used to calculate the sum of all the elements in the matrix. \n",
    "\n",
    "Here's the breakdown:\n",
    "- **Matrix Creation**: `np.random.randint(1, 3, (3, 3))` creates a 3x3 matrix where each element is either 1 or 2.\n",
    "- **Sum Calculation**: The sum of all elements in the matrix is calculated using `np.sum()` and displayed.\n",
    "\n",
    "The code will print the matrix and its sum, providing an understanding of both the data and its aggregate value."
   ]
  },
  {
   "cell_type": "code",
   "execution_count": null,
   "metadata": {},
   "outputs": [],
   "source": [
    "import pandas as pd\n",
    "\n",
    "# Load the CSV file into a Pandas DataFrame\n",
    "df = pd.read_csv(\"students.csv\")\n",
    "\n",
    "# Add a new column named \"Reviewer\" and fill it with your name\n",
    "df['Reviewer'] = \"Siddharth\"\n",
    "\n",
    "# Display the first 5 rows of the modified DataFrame\n",
    "print(df.head())"
   ]
  },
  {
   "cell_type": "markdown",
   "metadata": {},
   "source": [
    "This code loads a CSV file (`students.csv`) into a Pandas DataFrame, adds a new column called `\"Reviewer\"`, and fills it with the name `\"Siddharth\"` for all rows. The `.head()` method is then used to display the first 5 rows of the modified DataFrame.\n",
    "\n",
    "### Key Steps:\n",
    "1. **Loading CSV**: The `pd.read_csv(\"students.csv\")` function reads the `students.csv` file into a DataFrame.\n",
    "2. **Adding a Column**: The new column `\"Reviewer\"` is added, and the entire column is filled with the value `\"Siddharth\"`.\n",
    "3. **Displaying Data**: `df.head()` shows the first 5 rows of the DataFrame, allowing you to quickly inspect the result.\n",
    "\n",
    "Make sure the file `students.csv` is in the correct directory or specify its full path for successful loading."
   ]
  },
  {
   "cell_type": "code",
   "execution_count": null,
   "metadata": {},
   "outputs": [],
   "source": [
    "import seaborn as sns\n",
    "import numpy as np\n",
    "import matplotlib.pyplot as plt\n",
    "\n",
    "# Generating sample data\n",
    "np.random.seed(42)\n",
    "x = np.random.rand(50) * 10  # Random x values\n",
    "y = 2.5 * x + np.random.randn(50) * 5  # Linear relation with noise\n",
    "\n",
    "# Creating the scatter plot with regression line\n",
    "sns.regplot(x=x, y=y, scatter_kws={'color': 'blue'}, line_kws={'color': 'red'})\n",
    "plt.title(\"Siddharth's Scatter Plot with Regression Line\")\n",
    "plt.xlabel('X Values')\n",
    "plt.ylabel('Y Values')\n",
    "plt.show()\n"
   ]
  },
  {
   "cell_type": "markdown",
   "metadata": {},
   "source": [
    "This code generates a scatter plot with a regression line using Seaborn. It creates random `x` values between 0 and 10, and `y` values are calculated with a linear relationship (`y = 2.5 * x`) and added noise (`np.random.randn(50) * 5`).\n",
    "\n",
    "Here's the breakdown:\n",
    "- **Random Data**: `x` values are randomly generated, and `y` values are based on a linear function of `x` with some noise to simulate real-world data.\n",
    "- **Scatter Plot and Regression Line**: The `sns.regplot()` function creates the scatter plot and overlays a regression line. The scatter points are colored blue (`scatter_kws={'color': 'blue'}`) and the regression line is red (`line_kws={'color': 'red'}`).\n",
    "- **Labels and Title**: The plot is titled `\"Siddharth's Scatter Plot with Regression Line\"`, and the axes are labeled accordingly.\n",
    "\n",
    "This visualization allows for the analysis of the linear relationship between `x` and `y`, along with the regression line that best fits the data."
   ]
  }
 ],
 "metadata": {
  "kernelspec": {
   "display_name": "Python 3",
   "language": "python",
   "name": "python3"
  },
  "language_info": {
   "codemirror_mode": {
    "name": "ipython",
    "version": 3
   },
   "file_extension": ".py",
   "mimetype": "text/x-python",
   "name": "python",
   "nbconvert_exporter": "python",
   "pygments_lexer": "ipython3",
   "version": "3.11.9"
  }
 },
 "nbformat": 4,
 "nbformat_minor": 2
}
