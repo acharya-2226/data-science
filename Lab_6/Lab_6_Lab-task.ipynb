{
 "cells": [
  {
   "cell_type": "markdown",
   "metadata": {},
   "source": [
    "# Lab 6\n",
    "### Advanced Data Preprocessing and Feature Engineering\n",
    "\n",
    "In this lab, we focus on key techniques for preparing data and engineering features to enhance the performance of machine learning models. The tasks include:\n",
    "\n",
    "1. **Handling Categorical Data with One-Hot Encoding**  \n",
    "   Transform categorical data into numerical form by applying one-hot encoding to the `Color` column.\n",
    "\n",
    "2. **Normalizing Numerical Data**  \n",
    "   Normalize numerical features like `Age` and `Salary` using Min-Max scaling to ensure values are in a uniform range.\n",
    "\n",
    "3. **Removing Highly Correlated Features**  \n",
    "   Identify and remove redundant features by computing a correlation matrix and eliminating one of the highly correlated variables.\n",
    "\n",
    "4. **Creating New Features from Existing Data**  \n",
    "   Derive a new categorical feature `AgeGroup` based on the `Age` column, classifying individuals into groups such as \"Young\", \"Adult\", and \"Senior\".\n",
    "\n",
    "These techniques are essential for effective data preprocessing, ensuring the data is clean, well-scaled, and relevant for building robust models.\n"
   ]
  },
  {
   "cell_type": "markdown",
   "metadata": {},
   "source": [
    "## LAB TASK 1\n",
    "### Feature Extraction: Handling Categorical Data with One-Hot Encoding\n",
    "- **Task:** \n",
    "  - You are given a dataset with a categorical column `Color` containing values `Red`, `Blue`, and `Green`.\n",
    "  - Apply one-hot encoding to the `Color` column and add it as new columns to the dataset.\n",
    "  \n",
    "  **Dataset Example:**\n",
    "  ```python\n",
    "  data = {'Color': ['Red', 'Blue', 'Green', 'Blue', 'Red']}\n",
    "  ```\n"
   ]
  },
  {
   "cell_type": "code",
   "execution_count": 1,
   "metadata": {},
   "outputs": [
    {
     "name": "stdout",
     "output_type": "stream",
     "text": [
      "   Color_Blue  Color_Green  Color_Red\n",
      "0       False        False       True\n",
      "1        True        False      False\n",
      "2       False         True      False\n",
      "3        True        False      False\n",
      "4       False        False       True\n"
     ]
    }
   ],
   "source": [
    "import pandas as pd\n",
    "\n",
    "# Initial dataset\n",
    "data = {'Color': ['Red', 'Blue', 'Green', 'Blue', 'Red']}\n",
    "df = pd.DataFrame(data)\n",
    "\n",
    "# Apply one-hot encoding\n",
    "one_hot_encoded_df = pd.get_dummies(df, columns=['Color'], prefix='Color')\n",
    "\n",
    "# Result\n",
    "print(one_hot_encoded_df)\n"
   ]
  },
  {
   "cell_type": "markdown",
   "metadata": {},
   "source": [
    "## LAB TASK 2\n",
    "### Feature Extraction: Normalizing Numerical Data\n",
    "\n",
    "#### Task:\n",
    "Given the dataset below, normalize the numerical features **Age** and **Salary** using Min-Max scaling.\n",
    "\n",
    "**Dataset Example:**\n",
    "```python\n",
    "data = {'Name': ['Alice', 'Bob', 'Charlie', 'David', 'Eve'],\n",
    "        'Age': [25, 30, 35, 40, 45],\n",
    "        'Salary': [50000, 60000, 70000, 80000, 90000]}\n",
    "\n",
    "# Min-Max scaling function\n",
    "def min_max_scaling(column):\n",
    "    min_value = min(column)\n",
    "    max_value = max(column)\n",
    "    return [(x - min_value) / (max_value - min_value) for x in column]\n",
    " ```\n"
   ]
  },
  {
   "cell_type": "code",
   "execution_count": 2,
   "metadata": {},
   "outputs": [
    {
     "name": "stdout",
     "output_type": "stream",
     "text": [
      "      Name   Age  Salary\n",
      "0    Alice  0.00    0.00\n",
      "1      Bob  0.25    0.25\n",
      "2  Charlie  0.50    0.50\n",
      "3    David  0.75    0.75\n",
      "4      Eve  1.00    1.00\n"
     ]
    }
   ],
   "source": [
    "# Dataset\n",
    "data = {'Name': ['Alice', 'Bob', 'Charlie', 'David', 'Eve'],\n",
    "        'Age': [25, 30, 35, 40, 45],\n",
    "        'Salary': [50000, 60000, 70000, 80000, 90000]}\n",
    "\n",
    "# Convert to DataFrame\n",
    "df = pd.DataFrame(data)\n",
    "\n",
    "# Min-Max scaling function\n",
    "def min_max_scaling(column):\n",
    "    min_value = min(column)\n",
    "    max_value = max(column)\n",
    "    return [(x - min_value) / (max_value - min_value) for x in column]\n",
    "\n",
    "# Apply scaling\n",
    "df['Age'] = min_max_scaling(df['Age'])\n",
    "df['Salary'] = min_max_scaling(df['Salary'])\n",
    "\n",
    "# Result\n",
    "print(df)\n"
   ]
  },
  {
   "cell_type": "markdown",
   "metadata": {},
   "source": [
    "## LAB TASK 3\n",
    "### Feature Selection: Removing Highly Correlated Features\n",
    "- **Task:** \n",
    "  - You are given a dataset with three features, **Feature1**, **Feature2**, and **Feature3**. Compute the correlation matrix and drop one feature that is highly correlated with the others (correlation > 0.9 or < -0.9).\n",
    "  \n",
    "- **Dataset Example:**\n",
    "  ```python\n",
    "  data = {'Feature1': [1, 2, 3, 4, 5],\n",
    "          'Feature2': [5, 4, 3, 2, 1],\n",
    "          'Feature3': [1, 2, 3, 4, 5],\n",
    "          'Target': [0, 1, 0, 1, 0]}\n"
   ]
  },
  {
   "cell_type": "code",
   "execution_count": 3,
   "metadata": {},
   "outputs": [
    {
     "name": "stdout",
     "output_type": "stream",
     "text": [
      "   Target\n",
      "0       0\n",
      "1       1\n",
      "2       0\n",
      "3       1\n",
      "4       0\n"
     ]
    }
   ],
   "source": [
    "import pandas as pd\n",
    "\n",
    "# Dataset\n",
    "data = {'Feature1': [1, 2, 3, 4, 5],\n",
    "        'Feature2': [5, 4, 3, 2, 1],\n",
    "        'Feature3': [1, 2, 3, 4, 5],\n",
    "        'Target': [0, 1, 0, 1, 0]}\n",
    "df = pd.DataFrame(data)\n",
    "\n",
    "# Compute the correlation matrix\n",
    "correlation_matrix = df.corr()\n",
    "\n",
    "# Identify highly correlated features (correlation > 0.9 or < -0.9)\n",
    "dropped = set()\n",
    "for i in correlation_matrix.columns:\n",
    "    for j in correlation_matrix.columns:\n",
    "        if i != j and abs(correlation_matrix.loc[i, j]) > 0.9:\n",
    "            dropped.add(j)\n",
    "\n",
    "# Drop one of the highly correlated features\n",
    "df_reduced = df.drop(columns=list(dropped))\n",
    "\n",
    "# Result\n",
    "print(df_reduced)\n"
   ]
  },
  {
   "cell_type": "markdown",
   "metadata": {},
   "source": [
    "## LAB TASK 4\n",
    " \n",
    "### Feature Extraction: Creating New Features from Existing Data**\n",
    "- **Task:** \n",
    "  - Given the dataset, create a new feature **AgeGroup** based on the **Age** column, where:\n",
    "    - If **Age** is less than 30, the **AgeGroup** is \"Young\".\n",
    "    - If **Age** is between 30 and 50 (inclusive), the **AgeGroup** is \"Adult\".\n",
    "    - If **Age** is greater than 50, the **AgeGroup** is \"Senior\".\n",
    "  \n",
    "- **Dataset Example:**\n",
    "  ```python\n",
    "  data = {'Name': ['Alice', 'Bob', 'Charlie', 'David', 'Eve'],\n",
    "          'Age': [25, 30, 35, 40, 55]}\n",
    "\n",
    "\n"
   ]
  },
  {
   "cell_type": "code",
   "execution_count": 4,
   "metadata": {},
   "outputs": [
    {
     "name": "stdout",
     "output_type": "stream",
     "text": [
      "      Name  Age AgeGroup\n",
      "0    Alice   25    Young\n",
      "1      Bob   30    Adult\n",
      "2  Charlie   35    Adult\n",
      "3    David   40    Adult\n",
      "4      Eve   55   Senior\n"
     ]
    }
   ],
   "source": [
    "import pandas as pd\n",
    "\n",
    "# Dataset\n",
    "data = {'Name': ['Alice', 'Bob', 'Charlie', 'David', 'Eve'],\n",
    "        'Age': [25, 30, 35, 40, 55]}\n",
    "df = pd.DataFrame(data)\n",
    "\n",
    "# Create AgeGroup feature\n",
    "def categorize_age(age):\n",
    "    if age < 30:\n",
    "        return \"Young\"\n",
    "    elif 30 <= age <= 50:\n",
    "        return \"Adult\"\n",
    "    else:\n",
    "        return \"Senior\"\n",
    "\n",
    "df['AgeGroup'] = df['Age'].apply(categorize_age)\n",
    "\n",
    "# Result\n",
    "print(df)\n",
    "\n"
   ]
  }
 ],
 "metadata": {
  "kernelspec": {
   "display_name": "Python 3",
   "language": "python",
   "name": "python3"
  },
  "language_info": {
   "codemirror_mode": {
    "name": "ipython",
    "version": 3
   },
   "file_extension": ".py",
   "mimetype": "text/x-python",
   "name": "python",
   "nbconvert_exporter": "python",
   "pygments_lexer": "ipython3",
   "version": "3.11.9"
  }
 },
 "nbformat": 4,
 "nbformat_minor": 2
}
